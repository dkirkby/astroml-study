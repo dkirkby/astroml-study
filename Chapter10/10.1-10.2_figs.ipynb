{
 "cells": [
  {
   "cell_type": "markdown",
   "metadata": {},
   "source": [
    "Notes are in scanned pdf"
   ]
  },
  {
   "cell_type": "code",
   "execution_count": 13,
   "metadata": {
    "collapsed": false
   },
   "outputs": [],
   "source": [
    "%matplotlib inline\n",
    "from IPython.display import Image"
   ]
  },
  {
   "cell_type": "markdown",
   "metadata": {},
   "source": [
    "### RR Lyrae light curve (dashed) with overlaid 1/2/8 mode Fourier approximation.\n",
    "![title](fig_rrlyrae_reconstruct_1.png)\n",
    "\n",
    "### Effect of non-uniform time sampling\n",
    "![title](fig_FFT_sampling_1.png)\n",
    "\n",
    "### Discrete Fourier transform of signal with low/high noise\n",
    "FT of noisy signal has *more* small peaks in PSD(f) but the larger peak for the true signal frequency is the same height as for the lower noise signal.\n",
    "![title](fig_fft_example_1.png)\n",
    "\n",
    "### LIGO noise spectrum breakdown\n",
    "low frequencies dominated by seismic noise, higher by quantum noise:\n",
    "![title](LIGO_noise.png)\n",
    "\n",
    "\n",
    "### LIGO wavelet analysis\n",
    "![title](LIGO_chirp.png)\n",
    "\n",
    "### Wavelet denoising for CMB\n",
    "![title](cmb_wavelet_denoise.gif)\n",
    "![title](cmb_wavelet_errs.gif)\n"
   ]
  },
  {
   "cell_type": "markdown",
   "metadata": {},
   "source": [
    "\n"
   ]
  },
  {
   "cell_type": "code",
   "execution_count": null,
   "metadata": {
    "collapsed": true
   },
   "outputs": [],
   "source": []
  }
 ],
 "metadata": {
  "kernelspec": {
   "display_name": "Python 2",
   "language": "python",
   "name": "python2"
  },
  "language_info": {
   "codemirror_mode": {
    "name": "ipython",
    "version": 2
   },
   "file_extension": ".py",
   "mimetype": "text/x-python",
   "name": "python",
   "nbconvert_exporter": "python",
   "pygments_lexer": "ipython2",
   "version": "2.7.6"
  }
 },
 "nbformat": 4,
 "nbformat_minor": 0
}
